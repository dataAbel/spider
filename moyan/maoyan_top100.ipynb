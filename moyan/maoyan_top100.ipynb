{
 "cells": [
  {
   "cell_type": "code",
   "execution_count": 5,
   "metadata": {},
   "outputs": [],
   "source": [
    "# maoyan movie top100\n",
    "# 榜单规则：将猫眼电影库中的经典影片，按照评分和评分人数从高到低综合排序取前100名，每天上午10点更新。相关数据来源于“猫眼电影库”。\n",
    "import requests\n",
    "import re\n",
    "import pymongo"
   ]
  },
  {
   "cell_type": "code",
   "execution_count": 6,
   "metadata": {},
   "outputs": [],
   "source": [
    "# 常量\n",
    "coll_name = 'maoyan_top100'\n",
    "base_url = 'https://maoyan.com/board/4?offset=%d'  # 共10页，%s:range(0, 100, 10)\n",
    "headers = {'User-Agent': 'Mozilla/5.0 (Windows; U; Windows NT 6.0; en-US; rv:1.9.1.6) Gecko/20091201 Firefox/3.5.6 GTB5'}"
   ]
  },
  {
   "cell_type": "code",
   "execution_count": 3,
   "metadata": {},
   "outputs": [],
   "source": [
    "# 连接MongoDB\n",
    "def conn_mongo():\n",
    "    client = pymongo.MongoClient('localhost', 27017)\n",
    "    db = client['spider']\n",
    "    return client, db"
   ]
  },
  {
   "cell_type": "code",
   "execution_count": 13,
   "metadata": {},
   "outputs": [],
   "source": [
    "# 采集\n",
    "def movie_info(content):\n",
    "    # ranking,img,title,movieId,star,releasetime,score\n",
    "    movies = re.findall('board-index-(\\d+).*?data-src=\"(.*?)\".*?title=\"(.*?)\".*?movieId:(\\d+).*?class=\"star\"\\\n",
    ">(.*?)</p>.*?releasetime\"(.*?)</p>.*?class=\"score\".*?integer\">\\\n",
    "(.*?)</i>.*?fraction\">(.*?)</i>', content, re.S)  # 换行用\"\\\"，注意第二行不要留空格\n",
    "    for movie in movies:\n",
    "        if '(' in movie[5]:\n",
    "            releaseCountry = re.search('\\((.*)\\)', movie[5]).group(1)\n",
    "            releaseDate = re.search('上映时间：(.*?)\\(', movie[5]).group(1)\n",
    "        else:\n",
    "            releaseCountry = None\n",
    "            releaseDate = re.search('上映时间：(.*)', movie[5]).group(1)\n",
    "        yield {\n",
    "            'movieId': movie[3],\n",
    "            'movieName': movie[2],\n",
    "            'ranking': int(movie[0]),\n",
    "            'score': float(movie[6] + movie[7]),\n",
    "            'releaseDate': releaseDate,\n",
    "            'releaseCountry': releaseCountry,\n",
    "            'actors': re.sub('\\s', '', movie[4]).split('：')[1].split(','),\n",
    "            'img': movie[1]\n",
    "        }"
   ]
  },
  {
   "cell_type": "code",
   "execution_count": 14,
   "metadata": {},
   "outputs": [],
   "source": [
    "client, db = conn_mongo()\n",
    "for offset in range(0, 100, 10):\n",
    "    response = requests.get(base_url % offset, headers=headers, timeout=60)\n",
    "    for i in movie_info(response.text):\n",
    "        try:\n",
    "            db[coll_name].insert_one(i)\n",
    "        except:\n",
    "            continue\n",
    "client.close()"
   ]
  }
 ],
 "metadata": {
  "kernelspec": {
   "display_name": "Python 3",
   "language": "python",
   "name": "python3"
  },
  "language_info": {
   "codemirror_mode": {
    "name": "ipython",
    "version": 3
   },
   "file_extension": ".py",
   "mimetype": "text/x-python",
   "name": "python",
   "nbconvert_exporter": "python",
   "pygments_lexer": "ipython3",
   "version": "3.7.3"
  }
 },
 "nbformat": 4,
 "nbformat_minor": 2
}
