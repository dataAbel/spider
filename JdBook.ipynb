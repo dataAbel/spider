{
 "cells": [
  {
   "cell_type": "code",
   "execution_count": 21,
   "metadata": {
    "ExecuteTime": {
     "end_time": "2019-11-28T09:13:49.752934Z",
     "start_time": "2019-11-28T09:13:49.745953Z"
    }
   },
   "outputs": [],
   "source": [
    "from lxml import etree\n",
    "import requests\n",
    "import urllib.parse\n",
    "import re\n",
    "import pandas as pd\n",
    "import numpy as np\n",
    "import csv\n",
    "import time\n",
    "import datetime\n",
    "import pymongo\n",
    "import json\n",
    "import os\n",
    "import sys\n",
    "from progressbar import ProgressBar\n",
    "from fake_useragent import UserAgent\n",
    "from retrying import retry\n",
    "from selenium import webdriver  # 解决动态加载问题\n",
    "from selenium.webdriver.chrome.options import Options\n",
    "from selenium.webdriver.common.by import By\n",
    "from selenium.webdriver.common.keys import Keys\n",
    "from selenium.webdriver.support import expected_conditions as EC\n",
    "from selenium.webdriver.support.wait import WebDriverWait\n",
    "import pyecharts\n",
    "from pyecharts.charts import Bar"
   ]
  },
  {
   "cell_type": "code",
   "execution_count": 22,
   "metadata": {
    "ExecuteTime": {
     "end_time": "2019-11-28T09:13:52.299173Z",
     "start_time": "2019-11-28T09:13:52.289170Z"
    },
    "code_folding": []
   },
   "outputs": [],
   "source": [
    "# 根据关键字搜索书籍\n",
    "keyword = 'spark'\n",
    "keyword_collection = 'JDBook_keyword'\n",
    "wtype = 1  # 自营\n",
    "search_page_num = 30  # 关键字搜索每页初始加载数30，动态加载30。page为奇数为初始加载，偶数为下滑滚动加载。\n",
    "index_name = 'skuid'\n",
    "\n",
    "search_params = {'keyword': keyword, 'wtype': wtype, 'enc': 'utf8'}\n",
    "search_url = 'https://search.jd.com/Search?page=%s&' + urllib.parse.urlencode(search_params)\n",
    "search_headers = {\n",
    "    'User-Agent': UserAgent().Chrome,\n",
    "    'X-Requested-With': 'XMLHttpRequest',\n",
    "    'Referer': 'https://search.jd.com/Search?enc=utf8&keyword=' + urllib.parse.quote(keyword)\n",
    "}\n",
    "\n",
    "# 通过图书种类搜索书籍\n",
    "category_collection = 'JDBook'\n",
    "cat_url = 'https://book.jd.com/booksort.html'  # 全部分类URL\n",
    "cat_filename = '京东图书分类.json'\n",
    "subcat_url = 'https://list.jd.com/%s.html?delivery=1'\n",
    "cat_page_num = 60\n",
    "cat_headers = {'User-Agent': UserAgent().Chrome}"
   ]
  },
  {
   "cell_type": "code",
   "execution_count": 26,
   "metadata": {
    "ExecuteTime": {
     "end_time": "2019-11-28T09:19:02.787803Z",
     "start_time": "2019-11-28T09:19:02.753894Z"
    }
   },
   "outputs": [],
   "source": [
    "@retry(stop_max_attempt_number=5, wait_fixed=2000)\n",
    "def page_content(url, headers, encoding=None):\n",
    "    \"\"\"获取网页源代码\"\"\"\n",
    "    content = requests.get(url, headers=headers)\n",
    "    if encoding:\n",
    "        content.encoding = encoding  # 解决中文乱码问题\n",
    "    return content.text\n",
    "\n",
    "\n",
    "def pages(url, headers, encoding, page_num, cat):\n",
    "    \"\"\"计算查询结果总页数\"\"\"\n",
    "    global search_type\n",
    "    content = page_content(url, headers, encoding)\n",
    "    html = etree.HTML(content)\n",
    "    if search_type == 'keyword':\n",
    "        records = html.xpath('//meta[@name=\"description\"]/@content')[0]\n",
    "        records = int(re.search('(\\d+)件', records, re.S).group(1))\n",
    "    else:\n",
    "        records = int(html.xpath('//div[@class=\"st-ext\"]/span/text()')[0])\n",
    "    total_pages = int(np.ceil(records / page_num))\n",
    "    print('查询%s:结果有%d件，共%d页'.center(50, '*') % (cat, records, total_pages))\n",
    "    return total_pages\n",
    "\n",
    "\n",
    "def book_detail(content, save_book_only, search_type, cat):\n",
    "    \"\"\"\n",
    "    抓取sku、price、href、shop、name\n",
    "    sku:商品编号\n",
    "    discount_price:折扣价\n",
    "    href:商品链接\n",
    "    publish:出版商\n",
    "    name:商品标题\n",
    "    isjd:是否京东自营\n",
    "    keyword:搜索关键词\n",
    "    \"\"\"\n",
    "    html = etree.HTML(content)\n",
    "    records_num = len(html.xpath('//li[@class=\"gl-item\"]'))\n",
    "    for index in range(1, records_num + 1):\n",
    "        if search_type == 'keyword':\n",
    "            sku = html.xpath('//li[@class=\"gl-item\"][%s]/@data-sku' % index)[0]\n",
    "            isjd = html.xpath('//li[@class=\"gl-item\"][%s]//div[@class=\"p-icons\"]/i[contains(@class, \"goods-icons\")]/text()' % index)\n",
    "        else:\n",
    "            sku = html.xpath('//li[@class=\"gl-item\"][%s]//div[@class=\"p-operate\"]/a/@data-sku' % index)[0]\n",
    "            isjd = ''.join(html.xpath('//li[@class=\"gl-item\"][%s]//div[@class=\"p-shopnum\"]//text()' % index)).strip()\n",
    "        try:\n",
    "            discount_price = float(html.xpath('//li[@class=\"gl-item\"][%s]//div[@class=\"p-price\"]//i/text()' % index)[0])\n",
    "        except:\n",
    "            discount_price = None\n",
    "        href = 'https:' + html.xpath('//li[@class=\"gl-item\"][%s]//div[contains(@class, \"p-name\")]/a/@href' % index)[0]\n",
    "        name = html.xpath('//li[@class=\"gl-item\"][%s]//div[contains(@class, \"p-name\")]' % index)\n",
    "        name = ''.join(name[0].xpath('.//em//text()')).strip()\n",
    "        # 部分图书没有p-bookdetails标签\n",
    "        isbook = html.xpath('//li[@class=\"gl-item\"][%s]//div[@class=\"p-bookdetails\"]' % index)  # 判断是否是图书\n",
    "        if len(isbook) >= 1:\n",
    "            author = list(x.strip() for x in set(html.xpath('//li[@class=\"gl-item\"][%s]//div[@class=\"p-bookdetails\"]/span[@class=\"p-bi-name\"]//a/text()' % index)))\n",
    "            publish = ''.join(html.xpath('//li[@class=\"gl-item\"][%s]//div[@class=\"p-bookdetails\"]/span[@class=\"p-bi-store\"]//a/text()' % index))\n",
    "            publish_date = ''.join(html.xpath('//li[@class=\"gl-item\"][%s]//div[@class=\"p-bookdetails\"]/span[@class=\"p-bi-date\"]/text()' % index)).strip()\n",
    "        else:\n",
    "            shop = ''.join(html.xpath('//li[@class=\"gl-item\"][%s]//div[@class=\"p-shop\"]//a/text()' % index))\n",
    "        \n",
    "        isjd = 1 if '自营' in ''.join(isjd) else 0\n",
    "        if isjd == 1:\n",
    "            if len(isbook) >= 1:\n",
    "                bookinfo =  {'skuid': sku, 'discount_price': discount_price, 'href': href, 'publish': publish,\n",
    "                       'author': author, 'publish_date': publish_date,\n",
    "                       'name': name, 'isjd': isjd, 'isbook': 1}\n",
    "            else:\n",
    "                if not save_book_only:\n",
    "                    bookinfo = {'skuid': sku, 'discount_price': discount_price, 'href': href, 'shop': shop,\n",
    "                           'name': name, 'isjd': isjd, 'isbook': 0}\n",
    "                else:\n",
    "                    yield None\n",
    "            if search_type == 'keyword':\n",
    "                bookinfo = dict(bookinfo, **{'keyword': keyword})\n",
    "            else:\n",
    "                bookinfo = dict(bookinfo, **{'top_catname': cat[0], 'sub_catname': cat[1]})\n",
    "            yield bookinfo\n",
    "\n",
    "\n",
    "def load_ajax_page(page):\n",
    "    \"\"\"Chrome无头浏览器加载关键字对应的网页\"\"\"\n",
    "    chrome_options = Options()\n",
    "    chrome_options.add_argument('--headless')\n",
    "    chrome_options.add_argument('--disable-gpu')\n",
    "    browser = webdriver.Chrome(options=chrome_options)\n",
    "    try:\n",
    "        browser.get(search_url % page)\n",
    "        wait = WebDriverWait(browser, 10)\n",
    "        try:\n",
    "            wait.until(EC.presence_of_element_located((By.CLASS_NAME, 'm-list')))\n",
    "            end = browser.find_element_by_class_name('page')\n",
    "            browser.execute_script('arguments[0].scrollIntoView(true);', end)  # 拖动到最底部\n",
    "        except:\n",
    "            time.sleep(30)\n",
    "        time.sleep(5)\n",
    "        return browser.page_source\n",
    "    finally:\n",
    "        browser.close()\n",
    "\n",
    "\n",
    "def conn_mongo(collection, index_name, remove=False):\n",
    "    \"\"\"连接MongoDB数据库\"\"\"\n",
    "    client = pymongo.MongoClient('127.0.0.1', 27017)\n",
    "    db = client['spider']\n",
    "    coll = db[collection]\n",
    "    if remove:\n",
    "        coll.delete_many({})\n",
    "    indexes = coll.index_information()\n",
    "    if ('%s_1' % index_name) not in indexes:\n",
    "        coll.create_index([(index_name, 1)], unique=True)\n",
    "    return client, db, coll\n",
    "\n",
    "\n",
    "def save_to_mongo(coll, total_pages, search_type, save_book_only, cat, step=1, url=None):\n",
    "    \"\"\"查询结果保存到MongoDB数据库\"\"\"\n",
    "    if search_type == 'keyword':\n",
    "        step=2\n",
    "    pbar = ProgressBar(maxval=100)\n",
    "    pbar.start()\n",
    "    for page in range(1, total_pages + 1, step):\n",
    "        if search_type == 'keyword':\n",
    "            content = load_ajax_page(page)\n",
    "        else:\n",
    "            content = page_content(url + '&page=%d' % page, cat_headers, 'utf8')\n",
    "        books = book_detail(content, save_book_only, search_type, cat)\n",
    "        for book in books:\n",
    "            try:\n",
    "                if book:\n",
    "                    coll.insert_one(book)\n",
    "            except Exception as e:\n",
    "                pass\n",
    "        pbar.update(page*100//total_pages)\n",
    "        time.sleep(0.5)\n",
    "    pbar.finish()\n",
    "    return\n",
    "\n",
    "\n",
    "def book_category(save=True):\n",
    "    \"\"\"自营图书全部种类，保存到json文件\"\"\"\n",
    "    # 网页源代码头部编码声明中编码格式为gb2312。因utf8无法正常显示中文,gb2312无法显示繁体字，故用gb18030\n",
    "    content = page_content(cat_url, headers=None, encoding='gb18030')\n",
    "    html = etree.HTML(content)\n",
    "\n",
    "    cat_dict = {}\n",
    "    top_category = html.xpath('//dt/a/text()')  # 图书大类\n",
    "    for i, top_catname in enumerate(top_category, 1):\n",
    "        sub_category = html.xpath(f'//div[@class=\"mc\"]/dl/dd[{i}]//a')\n",
    "        for j, sub in enumerate(sub_category, 0):\n",
    "            href = sub.xpath(f'./@href')[0]\n",
    "            sub_catname = sub.xpath(f'./text()')[0]\n",
    "            cat_dict.setdefault(top_catname, {}).update({sub_catname: 'https:' + href})\n",
    "    if save:\n",
    "        with open(cat_filename, 'w', encoding='utf8') as f:\n",
    "            json.dump(cat_dict, f)\n",
    "    return cat_dict\n",
    "\n",
    "\n",
    "def category_detail(category):\n",
    "    \"\"\"一级分类、二级分类、链接\"\"\"\n",
    "    for top_cat, i in category.items():\n",
    "        for sub_cat, href in i.items():\n",
    "            cat_num = re.search('(\\d+-\\d+-\\d+)', href).group(1)\n",
    "            url = subcat_url % (cat_num)\n",
    "            yield (top_cat, sub_cat, url)"
   ]
  },
  {
   "cell_type": "code",
   "execution_count": null,
   "metadata": {
    "ExecuteTime": {
     "start_time": "2019-11-28T09:19:07.149Z"
    }
   },
   "outputs": [
    {
     "name": "stderr",
     "output_type": "stream",
     "text": [
      "  0% |                                                                        |\r"
     ]
    },
    {
     "name": "stdout",
     "output_type": "stream",
     "text": [
      "*****************查询小说-中国当代小说:结果有4684件，共79页*****************\n"
     ]
    },
    {
     "name": "stderr",
     "output_type": "stream",
     "text": [
      "100% |########################################################################|\n",
      "  0% |                                                                        |\r"
     ]
    },
    {
     "name": "stdout",
     "output_type": "stream",
     "text": [
      "*****************查询小说-中国近现代小说:结果有992件，共17页*****************\n"
     ]
    },
    {
     "name": "stderr",
     "output_type": "stream",
     "text": [
      "100% |########################################################################|\n",
      "  0% |                                                                        |\r"
     ]
    },
    {
     "name": "stdout",
     "output_type": "stream",
     "text": [
      "*****************查询小说-中国古典小说:结果有1432件，共24页*****************\n"
     ]
    },
    {
     "name": "stderr",
     "output_type": "stream",
     "text": [
      "100% |########################################################################|\n",
      "  0% |                                                                        |\r"
     ]
    },
    {
     "name": "stdout",
     "output_type": "stream",
     "text": [
      "*****************查询小说-四大名著:结果有665件，共12页*****************\n"
     ]
    },
    {
     "name": "stderr",
     "output_type": "stream",
     "text": [
      "100% |########################################################################|\n",
      "  0% |                                                                        |\r"
     ]
    },
    {
     "name": "stdout",
     "output_type": "stream",
     "text": [
      "*****************查询小说-港澳台小说:结果有61件，共2页*****************\n"
     ]
    },
    {
     "name": "stderr",
     "output_type": "stream",
     "text": [
      "100% |########################################################################|\n",
      "  0% |                                                                        |\r"
     ]
    },
    {
     "name": "stdout",
     "output_type": "stream",
     "text": [
      "*****************查询小说-穿越/重生/架空:结果有86件，共2页*****************\n"
     ]
    },
    {
     "name": "stderr",
     "output_type": "stream",
     "text": [
      "100% |########################################################################|\n",
      "  0% |                                                                        |\r"
     ]
    },
    {
     "name": "stdout",
     "output_type": "stream",
     "text": [
      "*****************查询小说-外国小说:结果有5310件，共89页*****************\n"
     ]
    },
    {
     "name": "stderr",
     "output_type": "stream",
     "text": [
      "100% |########################################################################|\n",
      "  0% |                                                                        |\r"
     ]
    },
    {
     "name": "stdout",
     "output_type": "stream",
     "text": [
      "*****************查询小说-侦探/悬疑/推理:结果有3150件，共53页*****************\n"
     ]
    },
    {
     "name": "stderr",
     "output_type": "stream",
     "text": [
      "100% |########################################################################|\n",
      "  0% |                                                                        |\r"
     ]
    },
    {
     "name": "stdout",
     "output_type": "stream",
     "text": [
      "*****************查询小说-惊悚/恐怖:结果有394件，共7页*****************\n"
     ]
    },
    {
     "name": "stderr",
     "output_type": "stream",
     "text": [
      "100% |########################################################################|\n",
      "  0% |                                                                        |\r"
     ]
    },
    {
     "name": "stdout",
     "output_type": "stream",
     "text": [
      "*****************查询小说-科幻小说:结果有1239件，共21页*****************\n"
     ]
    },
    {
     "name": "stderr",
     "output_type": "stream",
     "text": [
      "100% |########################################################################|\n",
      "  0% |                                                                        |\r"
     ]
    },
    {
     "name": "stdout",
     "output_type": "stream",
     "text": [
      "*****************查询小说-魔幻/奇幻/玄幻:结果有919件，共16页*****************\n"
     ]
    },
    {
     "name": "stderr",
     "output_type": "stream",
     "text": [
      "100% |########################################################################|\n",
      "  0% |                                                                        |\r"
     ]
    },
    {
     "name": "stdout",
     "output_type": "stream",
     "text": [
      "*****************查询小说-武侠:结果有427件，共8页*****************\n"
     ]
    },
    {
     "name": "stderr",
     "output_type": "stream",
     "text": [
      "100% |########################################################################|\n",
      "  0% |                                                                        |\r"
     ]
    },
    {
     "name": "stdout",
     "output_type": "stream",
     "text": [
      "*****************查询小说-军事:结果有449件，共8页*****************\n"
     ]
    },
    {
     "name": "stderr",
     "output_type": "stream",
     "text": [
      "100% |########################################################################|\n",
      "  0% |                                                                        |\r"
     ]
    },
    {
     "name": "stdout",
     "output_type": "stream",
     "text": [
      "*****************查询小说-情感/家庭/婚姻:结果有2677件，共45页*****************\n"
     ]
    },
    {
     "name": "stderr",
     "output_type": "stream",
     "text": [
      "100% |########################################################################|\n",
      "  0% |                                                                        |\r"
     ]
    },
    {
     "name": "stdout",
     "output_type": "stream",
     "text": [
      "*****************查询小说-宫廷:结果有72件，共2页*****************\n"
     ]
    },
    {
     "name": "stderr",
     "output_type": "stream",
     "text": [
      "100% |########################################################################|\n",
      "  0% |                                                                        |\r"
     ]
    },
    {
     "name": "stdout",
     "output_type": "stream",
     "text": [
      "*****************查询小说-社会:结果有4364件，共73页*****************\n"
     ]
    },
    {
     "name": "stderr",
     "output_type": "stream",
     "text": [
      "100% |########################################################################|\n",
      "  0% |                                                                        |\r"
     ]
    },
    {
     "name": "stdout",
     "output_type": "stream",
     "text": [
      "*****************查询小说-都市:结果有333件，共6页*****************\n"
     ]
    },
    {
     "name": "stderr",
     "output_type": "stream",
     "text": [
      "100% |########################################################################|\n",
      "  0% |                                                                        |\r"
     ]
    },
    {
     "name": "stdout",
     "output_type": "stream",
     "text": [
      "*****************查询小说-乡土:结果有164件，共3页*****************\n"
     ]
    },
    {
     "name": "stderr",
     "output_type": "stream",
     "text": [
      "100% |########################################################################|\n",
      "  0% |                                                                        |\r"
     ]
    },
    {
     "name": "stdout",
     "output_type": "stream",
     "text": [
      "*****************查询小说-职场:结果有165件，共3页*****************\n"
     ]
    },
    {
     "name": "stderr",
     "output_type": "stream",
     "text": [
      "100% |########################################################################|\n",
      "  0% |                                                                        |\r"
     ]
    },
    {
     "name": "stdout",
     "output_type": "stream",
     "text": [
      "*****************查询小说-财经:结果有136件，共3页*****************\n"
     ]
    },
    {
     "name": "stderr",
     "output_type": "stream",
     "text": [
      "100% |########################################################################|\n",
      "  0% |                                                                        |\r"
     ]
    },
    {
     "name": "stdout",
     "output_type": "stream",
     "text": [
      "*****************查询小说-官场:结果有290件，共5页*****************\n"
     ]
    },
    {
     "name": "stderr",
     "output_type": "stream",
     "text": [
      "100% |########################################################################|\n",
      "  0% |                                                                        |\r"
     ]
    },
    {
     "name": "stdout",
     "output_type": "stream",
     "text": [
      "*****************查询小说-历史:结果有1553件，共26页*****************\n"
     ]
    },
    {
     "name": "stderr",
     "output_type": "stream",
     "text": [
      "100% |########################################################################|\n",
      "  0% |                                                                        |\r"
     ]
    },
    {
     "name": "stdout",
     "output_type": "stream",
     "text": [
      "*****************查询小说-影视小说:结果有334件，共6页*****************\n"
     ]
    },
    {
     "name": "stderr",
     "output_type": "stream",
     "text": [
      "100% |########################################################################|\n",
      "  0% |                                                                        |\r"
     ]
    },
    {
     "name": "stdout",
     "output_type": "stream",
     "text": [
      "*****************查询小说-作品集:结果有3652件，共61页*****************\n"
     ]
    },
    {
     "name": "stderr",
     "output_type": "stream",
     "text": [
      "100% |########################################################################|\n",
      "  0% |                                                                        |\r"
     ]
    },
    {
     "name": "stdout",
     "output_type": "stream",
     "text": [
      "*****************查询小说-世界名著:结果有3206件，共54页*****************\n"
     ]
    },
    {
     "name": "stderr",
     "output_type": "stream",
     "text": [
      "100% |########################################################################|\n",
      "  0% |                                                                        |\r"
     ]
    },
    {
     "name": "stdout",
     "output_type": "stream",
     "text": [
      "*****************查询小说-期刊杂志:结果有10件，共1页*****************\n"
     ]
    },
    {
     "name": "stderr",
     "output_type": "stream",
     "text": [
      "100% |########################################################################|\n",
      "  0% |                                                                        |\r"
     ]
    },
    {
     "name": "stdout",
     "output_type": "stream",
     "text": [
      "*****************查询文学-散文/随笔/书信:结果有6104件，共102页*****************\n"
     ]
    },
    {
     "name": "stderr",
     "output_type": "stream",
     "text": [
      " 41% |#############################                                           |\r"
     ]
    }
   ],
   "source": [
    "if __name__ == \"__main__\":\n",
    "    search_type = 'category'  # category\n",
    "    save_book_only = True\n",
    "    remove = True\n",
    "    save_category = False\n",
    "    if 'client' in vars().keys():\n",
    "        client.close()\n",
    "    if search_type == 'keyword':\n",
    "        total_pages = pages(search_url % 1, search_headers, 'utf8', search_page_num, keyword)\n",
    "        client, db, coll = conn_mongo(keyword_collection, index_name, remove)\n",
    "        save_to_mongo(coll, total_pages, search_type, save_book_only, cat=keyword)\n",
    "    else:\n",
    "        client, db, coll = conn_mongo(category_collection, index_name, remove)\n",
    "        category = book_category(save_category)\n",
    "        for top_cat, sub_cat, href in category_detail(category):\n",
    "            total_pages = pages(href, None, 'utf8', cat_page_num, f'[{top_cat}-{sub_cat}]')\n",
    "            if total_pages > 0:\n",
    "                save_to_mongo(coll, total_pages, search_type, save_book_only, url=href, cat=(top_cat, sub_cat))\n",
    "    client.close()"
   ]
  }
 ],
 "metadata": {
  "gist": {
   "data": {
    "description": "Desktop/JdBook.ipynb",
    "public": false
   },
   "id": ""
  },
  "hide_input": false,
  "kernelspec": {
   "display_name": "Python 3",
   "language": "python",
   "name": "python3"
  },
  "language_info": {
   "codemirror_mode": {
    "name": "ipython",
    "version": 3
   },
   "file_extension": ".py",
   "mimetype": "text/x-python",
   "name": "python",
   "nbconvert_exporter": "python",
   "pygments_lexer": "ipython3",
   "version": "3.7.3"
  },
  "latex_envs": {
   "LaTeX_envs_menu_present": true,
   "autoclose": false,
   "autocomplete": true,
   "bibliofile": "biblio.bib",
   "cite_by": "apalike",
   "current_citInitial": 1,
   "eqLabelWithNumbers": true,
   "eqNumInitial": 1,
   "hotkeys": {
    "equation": "Ctrl-E",
    "itemize": "Ctrl-I"
   },
   "labels_anchors": false,
   "latex_user_defs": false,
   "report_style_numbering": false,
   "user_envs_cfg": false
  },
  "toc": {
   "base_numbering": 1,
   "nav_menu": {},
   "number_sections": true,
   "sideBar": true,
   "skip_h1_title": false,
   "title_cell": "Table of Contents",
   "title_sidebar": "Contents",
   "toc_cell": false,
   "toc_position": {},
   "toc_section_display": true,
   "toc_window_display": false
  },
  "varInspector": {
   "cols": {
    "lenName": 16,
    "lenType": 16,
    "lenVar": 40
   },
   "kernels_config": {
    "python": {
     "delete_cmd_postfix": "",
     "delete_cmd_prefix": "del ",
     "library": "var_list.py",
     "varRefreshCmd": "print(var_dic_list())"
    },
    "r": {
     "delete_cmd_postfix": ") ",
     "delete_cmd_prefix": "rm(",
     "library": "var_list.r",
     "varRefreshCmd": "cat(var_dic_list()) "
    }
   },
   "oldHeight": 377,
   "position": {
    "height": "40px",
    "left": "1284px",
    "right": "20px",
    "top": "78px",
    "width": "611px"
   },
   "types_to_exclude": [
    "module",
    "function",
    "builtin_function_or_method",
    "instance",
    "_Feature"
   ],
   "varInspector_section_display": "none",
   "window_display": false
  }
 },
 "nbformat": 4,
 "nbformat_minor": 2
}
