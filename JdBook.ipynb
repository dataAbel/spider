{
 "cells": [
  {
   "cell_type": "code",
   "execution_count": 85,
   "metadata": {
    "ExecuteTime": {
     "end_time": "2019-11-27T08:42:55.992462Z",
     "start_time": "2019-11-27T08:42:55.985478Z"
    }
   },
   "outputs": [],
   "source": [
    "from lxml import etree\n",
    "import requests\n",
    "import urllib.parse\n",
    "import re\n",
    "import pandas as pd\n",
    "import numpy as np\n",
    "import csv\n",
    "import time\n",
    "import datetime\n",
    "import pymongo\n",
    "import os\n",
    "import sys\n",
    "from progressbar import ProgressBar\n",
    "from tqdm import tqdm\n",
    "from fake_useragent import UserAgent\n",
    "from selenium import webdriver  # 解决动态加载问题\n",
    "from selenium.webdriver.chrome.options import Options\n",
    "from selenium.webdriver.common.by import By\n",
    "from selenium.webdriver.common.keys import Keys\n",
    "from selenium.webdriver.support import expected_conditions as EC\n",
    "from selenium.webdriver.support.wait import WebDriverWait\n",
    "import pyecharts\n",
    "from pyecharts.charts import Bar"
   ]
  },
  {
   "cell_type": "code",
   "execution_count": 98,
   "metadata": {
    "ExecuteTime": {
     "end_time": "2019-11-27T08:51:11.046875Z",
     "start_time": "2019-11-27T08:51:11.037899Z"
    },
    "code_folding": []
   },
   "outputs": [],
   "source": [
    "# 常量配置\n",
    "keyword = 'spark'\n",
    "collection = 'JdBook_spark'\n",
    "wtype = 1  # 自营\n",
    "page_num = 30  # 每页初始加载数30，动态加载30。page为奇数为初始加载，偶数为下滑滚动加载。\n",
    "\n",
    "base_url = 'https://search.jd.com/Search?page=%s'\n",
    "url = 'https://search.jd.com/Search?' + \\\n",
    "    urllib.parse.urlencode({'keyword': keyword, 'enc': 'utf8', 'wtype': wtype})\n",
    "headers = {\n",
    "    'User-Agent': UserAgent().Chrome,\n",
    "    'X-Requested-With': 'XMLHttpRequest',\n",
    "    'Referer': 'https://search.jd.com/Search?enc=utf8&keyword=' + urllib.parse.quote(keyword)\n",
    "}\n",
    "params = {\n",
    "    'wtype': 1,  # 是否自营\n",
    "    'keyword': keyword,  # urllib.parse.quote(keyword)\n",
    "    'enc': 'utf8'\n",
    "}"
   ]
  },
  {
   "cell_type": "code",
   "execution_count": 103,
   "metadata": {
    "ExecuteTime": {
     "end_time": "2019-11-27T09:15:36.655791Z",
     "start_time": "2019-11-27T09:15:36.634880Z"
    }
   },
   "outputs": [],
   "source": [
    "def page_content(page):\n",
    "    \"\"\"获取网页源代码\"\"\"\n",
    "    try:\n",
    "        content = requests.get(base_url % page, headers=headers, params=params)\n",
    "        content.encoding = 'utf8'  # 解决中文乱码问题\n",
    "        return content.text\n",
    "    except Exception as e:\n",
    "        print(e)\n",
    "        return\n",
    "\n",
    "\n",
    "def pages():\n",
    "    \"\"\"计算查询结果总页数\"\"\"\n",
    "    content = page_content(1)\n",
    "    html = etree.HTML(content)\n",
    "    records = html.xpath('//meta[@name=\"description\"]/@content')[0]\n",
    "    records = int(re.search('(\\d+)件', records, re.S).group(1))\n",
    "    total_pages = int(np.ceil(records / page_num))\n",
    "    print('根据关键词\"%s\"查询结果有%d件，共%d页'.center(50, '*') % (keyword, records, total_pages))\n",
    "    return total_pages\n",
    "\n",
    "\n",
    "def book_detail(content):\n",
    "    \"\"\"\n",
    "    抓取sku、price、href、shop、name\n",
    "    sku:商品编号\n",
    "    discount_price:折扣价\n",
    "    href:商品链接\n",
    "    publish:出版商\n",
    "    name:商品标题\n",
    "    isjd:是否京东自营\n",
    "    keyword:搜索关键词\n",
    "    \"\"\"\n",
    "    html = etree.HTML(content)\n",
    "    records_num = len(html.xpath('//li[@class=\"gl-item\"]/@data-sku'))\n",
    "    for index in range(1, records_num + 1):\n",
    "        sku = html.xpath('//li[@class=\"gl-item\"][%s]/@data-sku' % index)[0]\n",
    "        try:\n",
    "            discount_price = float(html.xpath('//li[@class=\"gl-item\"][%s]//div[@class=\"p-price\"]//i/text()' % index)[0])\n",
    "        except:\n",
    "            discount_price = None\n",
    "        href = 'https:' + html.xpath('//li[@class=\"gl-item\"][%s]//div[contains(@class, \"p-name\")]/a/@href' % index)[0]\n",
    "        name = html.xpath('//li[@class=\"gl-item\"][%s]//div[contains(@class, \"p-name\")]' % index)\n",
    "        name = ''.join(name[0].xpath('.//em//text()'))\n",
    "        # 部分图书没有p-bookdetails标签\n",
    "        isbook = html.xpath('//li[@class=\"gl-item\"][%s]//div[@class=\"p-bookdetails\"]' % index)  # 判断是否是图书\n",
    "        if len(isbook):\n",
    "            author = ''.join(html.xpath('//li[@class=\"gl-item\"][%s]//div[@class=\"p-bookdetails\"]/span[@class=\"p-bi-name\"]/a/text()' % index))\n",
    "            publish = ''.join(html.xpath('//li[@class=\"gl-item\"][%s]//div[@class=\"p-bookdetails\"]/span[@class=\"p-bi-store\"]/a/text()' % index))\n",
    "            publish_date = ''.join(html.xpath('//li[@class=\"gl-item\"][%s]//div[@class=\"p-bookdetails\"]/span[@class=\"p-bi-date\"]/text()' % index))\n",
    "        else:\n",
    "            shop = ''.join(html.xpath('//li[@class=\"gl-item\"][%s]//div[@class=\"p-shop\"]//a/text()' % index))\n",
    "        isjd = html.xpath('//li[@class=\"gl-item\"][%s]//div[@class=\"p-icons\"]/i[contains(@class, \"goods-icons\")]/text()' % index)\n",
    "        isjd = 1 if '自营' in ''.join(isjd) else 0\n",
    "        if isjd == 1:\n",
    "            if len(isbook):\n",
    "                yield {'sku': sku, 'discount_price': discount_price, 'href': href, 'publish': publish,\n",
    "                       'author': author, 'publish_date': publish_date,\n",
    "                       'name': name, 'isjd': isjd, 'keyword': keyword, 'isbook': 1}\n",
    "            else:\n",
    "                yield {'sku': sku, 'discount_price': discount_price, 'href': href, 'shop': shop\n",
    "                       'name': name, 'isjd': isjd, 'keyword': keyword, 'isbook': 0}\n",
    "\n",
    "\n",
    "def load_ajax_page(page):\n",
    "    \"\"\"selenium渲染动态页面\"\"\"\n",
    "    chrome_options = Options()\n",
    "    chrome_options.add_argument('--headless')\n",
    "    chrome_options.add_argument('--disable-gpu')\n",
    "    browser = webdriver.Chrome(options=chrome_options)\n",
    "    try:\n",
    "        browser.get(url + '&page=%d' % page)\n",
    "#         input = browser.find_element_by_id('key')\n",
    "#         input.send_keys(keyword)\n",
    "#         input.send_keys(Keys.ENTER)\n",
    "        wait = WebDriverWait(browser, 10)\n",
    "        try:\n",
    "            wait.until(EC.presence_of_element_located((By.CLASS_NAME, 'm-list')))\n",
    "            end = browser.find_element_by_class_name('page')\n",
    "            browser.execute_script('arguments[0].scrollIntoView(true);', end)\n",
    "        except:\n",
    "            time.sleep(30)\n",
    "        # 拖动到最底部\n",
    "        time.sleep(5)\n",
    "#         print(browser.current_url)\n",
    "#         print(browser.get_cookies())\n",
    "        return browser.page_source\n",
    "    finally:\n",
    "        browser.close()\n",
    "\n",
    "\n",
    "def conn_mongo(remove=False):\n",
    "    \"\"\"保存到MongoDB数据库\"\"\"\n",
    "    client = pymongo.MongoClient('127.0.0.1', 27017)\n",
    "    db = client['spider']\n",
    "    coll = db[collection]\n",
    "    if remove:\n",
    "        coll.delete_many({})\n",
    "    indexes = coll.index_information()\n",
    "    if 'sku_1' not in indexes:\n",
    "        coll.create_index([('sku', 1)], unique=True)\n",
    "    return client, db, coll"
   ]
  },
  {
   "cell_type": "code",
   "execution_count": 104,
   "metadata": {
    "ExecuteTime": {
     "end_time": "2019-11-27T09:24:22.712901Z",
     "start_time": "2019-11-27T09:15:39.234980Z"
    }
   },
   "outputs": [
    {
     "name": "stdout",
     "output_type": "stream",
     "text": [
      "**************根据关键词\"spark\"查询结果有1850件，共62页**************\n"
     ]
    },
    {
     "name": "stderr",
     "output_type": "stream",
     "text": [
      "100% |########################################################################|\n"
     ]
    }
   ],
   "source": [
    "if __name__ == \"__main__\":\n",
    "    try:\n",
    "        client.close()\n",
    "    except:\n",
    "        pass\n",
    "    client, db, coll = conn_mongo(remove=True)\n",
    "    total_pages = pages()\n",
    "    # 抓取关键字搜索结果的sku并保存到MongoDB数据库\n",
    "    pbar = ProgressBar(maxval=100)\n",
    "    pbar.start()\n",
    "    for page in range(1, total_pages + 1, 2):\n",
    "        content = load_ajax_page(page)\n",
    "        books = book_detail(content)\n",
    "        for book in books:\n",
    "            try:\n",
    "                coll.insert_one(book)\n",
    "            except Exception as e:\n",
    "                pass\n",
    "        pbar.update(page*100//total_pages)\n",
    "        time.sleep(0.5)\n",
    "    client.close()\n",
    "    pbar.finish()"
   ]
  },
  {
   "cell_type": "code",
   "execution_count": 100,
   "metadata": {
    "ExecuteTime": {
     "end_time": "2019-11-27T03:22:51.944325Z",
     "start_time": "2019-11-27T03:22:51.687005Z"
    },
    "scrolled": false
   },
   "outputs": [],
   "source": [
    "# 抓取全部自营图书\n",
    "cat_url = 'https://book.jd.com/booksort.html'  # 全部分类URL\n",
    "res = requests.get(cat_url)\n",
    "# 网页源代码头部编码声明中编码格式为gb2312。因utf8无法正常显示中文,gb2312无法显示繁体字，故用gb18030\n",
    "res.encoding='gb18030'\n",
    "html = etree.HTML(res.text)\n",
    "\n",
    "cat_dict = {}\n",
    "top_category = html.xpath('//dt/a/text()')  # 大类\n",
    "for i, top_catname in enumerate(top_category, 1):\n",
    "    sub_category = html.xpath(f'//div[@class=\"mc\"]/dl/dd[{i}]//a')\n",
    "    for j, sub in enumerate(sub_category, 0):\n",
    "        href = sub.xpath(f'./@href')[0]\n",
    "        sub_catname = sub.xpath(f'./text()')[0]\n",
    "        cat_dict.setdefault(top_catname, {}).update({sub_catname: 'https:' + href})\n",
    "cat_dict\n",
    "with open('京东图书分类.json', 'w', encoding='utf8') as f:\n",
    "    json.dump(cat_dict, f)"
   ]
  },
  {
   "cell_type": "code",
   "execution_count": 79,
   "metadata": {
    "ExecuteTime": {
     "end_time": "2019-11-27T08:34:23.251334Z",
     "start_time": "2019-11-27T08:29:27.946405Z"
    },
    "scrolled": false
   },
   "outputs": [
    {
     "name": "stdout",
     "output_type": "stream",
     "text": [
      "1713-3263-3402 https://list.jd.com/1713-3263-3402.html?delivery=1&page=1 0\n",
      "1713-3263-3405 https://list.jd.com/1713-3263-3405.html?delivery=1&page=1 0\n",
      "1713-3267-17593 https://list.jd.com/1713-3267-17593.html?delivery=1&page=1 0\n",
      "1713-3266-17585 https://list.jd.com/1713-3266-17585.html?delivery=1&page=1 0\n",
      "1713-3266-17586 https://list.jd.com/1713-3266-17586.html?delivery=1&page=1 0\n",
      "1713-3264-17591 https://list.jd.com/1713-3264-17591.html?delivery=1&page=1 0\n",
      "1713-3289-17583 https://list.jd.com/1713-3289-17583.html?delivery=1&page=1 0\n",
      "1713-3290-17579 https://list.jd.com/1713-3290-17579.html?delivery=1&page=1 0\n",
      "1713-3291-17581 https://list.jd.com/1713-3291-17581.html?delivery=1&page=1 0\n",
      "1713-14669-14681 https://list.jd.com/1713-14669-14681.html?delivery=1&page=1 0\n",
      "1713-14669-14684 https://list.jd.com/1713-14669-14684.html?delivery=1&page=1 0\n",
      "1713-14669-14687 https://list.jd.com/1713-14669-14687.html?delivery=1&page=1 0\n",
      "1713-11745-11751 https://list.jd.com/1713-11745-11751.html?delivery=1&page=1 0\n",
      "1713-11745-11753 https://list.jd.com/1713-11745-11753.html?delivery=1&page=1 0\n",
      "1713-11745-11755 https://list.jd.com/1713-11745-11755.html?delivery=1&page=1 0\n",
      "1713-11745-11757 https://list.jd.com/1713-11745-11757.html?delivery=1&page=1 0\n",
      "1713-11745-11758 https://list.jd.com/1713-11745-11758.html?delivery=1&page=1 0\n"
     ]
    }
   ],
   "source": [
    "import json\n",
    "\n",
    "with open(r'F:\\abel\\cga\\spider\\jd\\京东图书分类.json') as f:\n",
    "    json_dict = json.load(f)\n",
    "for i in json_dict.values():\n",
    "    for j in i.values():\n",
    "        cat = re.search('(\\d+-\\d+-\\d+)', j).group(1)\n",
    "        url = 'https://list.jd.com/%s.html?delivery=1&page=1' % cat\n",
    "        res = requests.get(url).text\n",
    "        html = etree.HTML(res)\n",
    "        results = html.xpath('//div[@class=\"p-bookdetails\"]')\n",
    "        if len(results) == 0:\n",
    "            print(cat, url, len(results))"
   ]
  }
 ],
 "metadata": {
  "gist": {
   "data": {
    "description": "Desktop/JdBook.ipynb",
    "public": false
   },
   "id": ""
  },
  "hide_input": false,
  "kernelspec": {
   "display_name": "Python 3",
   "language": "python",
   "name": "python3"
  },
  "latex_envs": {
   "LaTeX_envs_menu_present": true,
   "autoclose": false,
   "autocomplete": true,
   "bibliofile": "biblio.bib",
   "cite_by": "apalike",
   "current_citInitial": 1,
   "eqLabelWithNumbers": true,
   "eqNumInitial": 1,
   "hotkeys": {
    "equation": "Ctrl-E",
    "itemize": "Ctrl-I"
   },
   "labels_anchors": false,
   "latex_user_defs": false,
   "report_style_numbering": false,
   "user_envs_cfg": false
  },
  "toc": {
   "base_numbering": 1,
   "nav_menu": {},
   "number_sections": true,
   "sideBar": true,
   "skip_h1_title": false,
   "title_cell": "Table of Contents",
   "title_sidebar": "Contents",
   "toc_cell": false,
   "toc_position": {},
   "toc_section_display": true,
   "toc_window_display": false
  },
  "varInspector": {
   "cols": {
    "lenName": 16,
    "lenType": 16,
    "lenVar": 40
   },
   "kernels_config": {
    "python": {
     "delete_cmd_postfix": "",
     "delete_cmd_prefix": "del ",
     "library": "var_list.py",
     "varRefreshCmd": "print(var_dic_list())"
    },
    "r": {
     "delete_cmd_postfix": ") ",
     "delete_cmd_prefix": "rm(",
     "library": "var_list.r",
     "varRefreshCmd": "cat(var_dic_list()) "
    }
   },
   "oldHeight": 377,
   "position": {
    "height": "40px",
    "left": "1284px",
    "right": "20px",
    "top": "78px",
    "width": "611px"
   },
   "types_to_exclude": [
    "module",
    "function",
    "builtin_function_or_method",
    "instance",
    "_Feature"
   ],
   "varInspector_section_display": "none",
   "window_display": false
  }
 },
 "nbformat": 4,
 "nbformat_minor": 2
}
